{
 "cells": [
  {
   "cell_type": "code",
   "execution_count": 1,
   "metadata": {},
   "outputs": [
    {
     "name": "stdout",
     "output_type": "stream",
     "text": [
      "周长: 62.83\n",
      "面积: 314.16\n"
     ]
    }
   ],
   "source": [
    "\n",
    "radius = float(input('请输入圆的半径: '))\n",
    "perimeter = 2 * 3.1416 * radius\n",
    "area = 3.1416 * radius * radius\n",
    "print('周长: %.2f' % perimeter)\n",
    "print('面积: %.2f' % area)"
   ]
  },
  {
   "cell_type": "code",
   "execution_count": 2,
   "metadata": {},
   "outputs": [
    {
     "name": "stdout",
     "output_type": "stream",
     "text": [
      "10.000000厘米 = 3.937008英寸\n"
     ]
    }
   ],
   "source": [
    "value = float(input('请输入长度: '))\n",
    "unit = input('请输入单位: ')\n",
    "if unit == 'in' or unit == '英寸':\n",
    "    print('%f英寸 = %f厘米' % (value, value * 2.54))\n",
    "elif unit == 'cm' or unit == '厘米':\n",
    "    print('%f厘米 = %f英寸' % (value, value / 2.54))\n",
    "else:\n",
    "    print('请输入有效的单位')"
   ]
  },
  {
   "cell_type": "code",
   "execution_count": 5,
   "metadata": {},
   "outputs": [
    {
     "name": "stdout",
     "output_type": "stream",
     "text": [
      "对应的等级是: A\n"
     ]
    }
   ],
   "source": [
    "score = float(input('请输入成绩: '))\n",
    "if score >= 90:\n",
    "    grade = 'A'\n",
    "elif score >= 80:\n",
    "    grade = 'B'\n",
    "elif score >= 70:\n",
    "    grade = 'C'\n",
    "elif score >= 60:\n",
    "    grade = 'D'\n",
    "else:\n",
    "    grade = 'E'\n",
    "print('对应的等级是:', grade)"
   ]
  },
  {
   "cell_type": "markdown",
   "metadata": {},
   "source": [
    "04 分支循环结构\n",
    "\n",
    "- `range(101)`：可以用来产生0到100范围的整数，需要注意的是取不到101。\n",
    "- `range(1, 101)`：可以用来产生1到100范围的整数，相当于前面是闭区间后面是开区间。\n",
    "- `range(1, 101, 2)`：可以用来产生1到100的奇数，其中2是步长，即每次数值递增的值。\n",
    "- `range(100, 0, -2)`：可以用来产生100到1的偶数，其中-2是步长，即每次数字递减的值。"
   ]
  },
  {
   "cell_type": "code",
   "execution_count": 6,
   "metadata": {},
   "outputs": [
    {
     "name": "stdout",
     "output_type": "stream",
     "text": [
      "2550\n"
     ]
    }
   ],
   "source": [
    "sum = 0\n",
    "for x in range(2, 101, 2):\n",
    "    sum += x\n",
    "print(sum)"
   ]
  }
 ],
 "metadata": {
  "interpreter": {
   "hash": "9efce205f64ad363cd9f14615485aca38ee4ef0915866e318aa83c8d0c93f6fc"
  },
  "kernelspec": {
   "display_name": "Python 3.10.4 64-bit",
   "language": "python",
   "name": "python3"
  },
  "language_info": {
   "codemirror_mode": {
    "name": "ipython",
    "version": 3
   },
   "file_extension": ".py",
   "mimetype": "text/x-python",
   "name": "python",
   "nbconvert_exporter": "python",
   "pygments_lexer": "ipython3",
   "version": "3.10.4"
  },
  "orig_nbformat": 4
 },
 "nbformat": 4,
 "nbformat_minor": 2
}
